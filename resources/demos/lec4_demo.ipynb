{
 "cells": [
  {
   "cell_type": "code",
   "execution_count": 1,
   "metadata": {
    "executionInfo": {
     "elapsed": 1661,
     "status": "ok",
     "timestamp": 1709602382539,
     "user": {
      "displayName": "Srivatsa Kundurthy",
      "userId": "03839108747452750167"
     },
     "user_tz": 300
    },
    "id": "K15X0B8sJuou"
   },
   "outputs": [
    {
     "name": "stdout",
     "output_type": "stream",
     "text": [
      "Intel MKL WARNING: Support of Intel(R) Streaming SIMD Extensions 4.2 (Intel(R) SSE4.2) enabled only processors has been deprecated. Intel oneAPI Math Kernel Library 2025.0 will require Intel(R) Advanced Vector Extensions (Intel(R) AVX) instructions.\n",
      "Intel MKL WARNING: Support of Intel(R) Streaming SIMD Extensions 4.2 (Intel(R) SSE4.2) enabled only processors has been deprecated. Intel oneAPI Math Kernel Library 2025.0 will require Intel(R) Advanced Vector Extensions (Intel(R) AVX) instructions.\n"
     ]
    }
   ],
   "source": [
    "# Imports!\n",
    "import numpy as np\n",
    "import pandas as pd\n",
    "import matplotlib.pyplot as plt\n",
    "%matplotlib inline\n",
    "\n",
    "# Import scikit-learn tools!\n",
    "from sklearn.model_selection import train_test_split\n",
    "from sklearn.linear_model import LinearRegression"
   ]
  },
  {
   "cell_type": "code",
   "execution_count": 2,
   "metadata": {
    "colab": {
     "base_uri": "https://localhost:8080/",
     "height": 206
    },
    "collapsed": true,
    "executionInfo": {
     "elapsed": 185,
     "status": "ok",
     "timestamp": 1709602456724,
     "user": {
      "displayName": "Srivatsa Kundurthy",
      "userId": "03839108747452750167"
     },
     "user_tz": 300
    },
    "id": "6_STFD8GJuov",
    "outputId": "95d6caa4-d977-4d2e-f979-c8ad1bee8eb6"
   },
   "outputs": [
    {
     "data": {
      "text/html": [
       "<div>\n",
       "<style scoped>\n",
       "    .dataframe tbody tr th:only-of-type {\n",
       "        vertical-align: middle;\n",
       "    }\n",
       "\n",
       "    .dataframe tbody tr th {\n",
       "        vertical-align: top;\n",
       "    }\n",
       "\n",
       "    .dataframe thead th {\n",
       "        text-align: right;\n",
       "    }\n",
       "</style>\n",
       "<table border=\"1\" class=\"dataframe\">\n",
       "  <thead>\n",
       "    <tr style=\"text-align: right;\">\n",
       "      <th></th>\n",
       "      <th>X</th>\n",
       "      <th>Y</th>\n",
       "    </tr>\n",
       "  </thead>\n",
       "  <tbody>\n",
       "    <tr>\n",
       "      <th>0</th>\n",
       "      <td>0.559446</td>\n",
       "      <td>0.712223</td>\n",
       "    </tr>\n",
       "    <tr>\n",
       "      <th>1</th>\n",
       "      <td>0.761492</td>\n",
       "      <td>0.193319</td>\n",
       "    </tr>\n",
       "    <tr>\n",
       "      <th>2</th>\n",
       "      <td>0.244532</td>\n",
       "      <td>1.534062</td>\n",
       "    </tr>\n",
       "    <tr>\n",
       "      <th>3</th>\n",
       "      <td>0.771689</td>\n",
       "      <td>0.495752</td>\n",
       "    </tr>\n",
       "    <tr>\n",
       "      <th>4</th>\n",
       "      <td>0.354472</td>\n",
       "      <td>1.937421</td>\n",
       "    </tr>\n",
       "  </tbody>\n",
       "</table>\n",
       "</div>"
      ],
      "text/plain": [
       "          X         Y\n",
       "0  0.559446  0.712223\n",
       "1  0.761492  0.193319\n",
       "2  0.244532  1.534062\n",
       "3  0.771689  0.495752\n",
       "4  0.354472  1.937421"
      ]
     },
     "execution_count": 2,
     "metadata": {},
     "output_type": "execute_result"
    }
   ],
   "source": [
    "# Specify a seed so the numbers can be reproduced\n",
    "np.random.seed(1998)\n",
    "# Specify size of dataset, randomly generate points\n",
    "n = 100\n",
    "x = np.array([np.random.random() for a in range(100)])\n",
    "# Generate the true Y model with (normally distributed) noise (Y = -pi*x + e)\n",
    "y = -np.pi*x + np.e\n",
    "noise = np.random.normal(0,0.25,n)\n",
    "y += noise\n",
    "# Convert data into dataframe\n",
    "df = pd.DataFrame({'X':x,'Y':y})\n",
    "df.head()"
   ]
  },
  {
   "cell_type": "code",
   "execution_count": null,
   "metadata": {
    "colab": {
     "base_uri": "https://localhost:8080/",
     "height": 472
    },
    "collapsed": true,
    "executionInfo": {
     "elapsed": 1028,
     "status": "ok",
     "timestamp": 1696454334469,
     "user": {
      "displayName": "Eric Guo",
      "userId": "14148159081345199792"
     },
     "user_tz": 240
    },
    "id": "p4pDM3PYCxv6",
    "outputId": "aca17f03-d383-47fa-a229-096fb2c860d6"
   },
   "outputs": [],
   "source": [
    "# Let's plot the data!\n"
   ]
  },
  {
   "cell_type": "markdown",
   "metadata": {
    "id": "fmH3Uy_iQuvx"
   },
   "source": [
    "## The Sklearn Pipeline\n",
    "\n",
    "1. Extract features + target\n",
    "\n",
    "2. Perform train-test split\n",
    "\n",
    "3. Instantiate your model\n",
    "\n",
    "4. Fit your model to the training data (model training)\n",
    "\n",
    "5. (Optional) Save your predictions -- useful if you need some accuracy metric against the known outputs\n",
    "\n",
    "6. Check accuracy"
   ]
  },
  {
   "cell_type": "code",
   "execution_count": null,
   "metadata": {
    "colab": {
     "base_uri": "https://localhost:8080/"
    },
    "executionInfo": {
     "elapsed": 198,
     "status": "ok",
     "timestamp": 1696455111153,
     "user": {
      "displayName": "Eric Guo",
      "userId": "14148159081345199792"
     },
     "user_tz": 240
    },
    "id": "f5OnoOcfJuox",
    "outputId": "cadaec84-fb91-4579-f2f7-f1457c330d5a"
   },
   "outputs": [],
   "source": [
    "# Now let's train a linear regression model on our data (for now we will only train once, so we won't have a validation set)\n",
    "\n",
    "# Extract features and target\n",
    "\n",
    "# Split the data into a training set and test set using train_test_split\n",
    "\n",
    "# Instantiate linear regression model\n",
    "\n",
    "# Fit the linear regression model to our data\n",
    "\n",
    "# Save test set predictions\n",
    "\n",
    "# Print the R^2 value (how accurate was our model in predicting the y-values)?\n"
   ]
  },
  {
   "cell_type": "code",
   "execution_count": null,
   "metadata": {
    "colab": {
     "base_uri": "https://localhost:8080/",
     "height": 472
    },
    "collapsed": true,
    "executionInfo": {
     "elapsed": 210,
     "status": "ok",
     "timestamp": 1696455120770,
     "user": {
      "displayName": "Eric Guo",
      "userId": "14148159081345199792"
     },
     "user_tz": 240
    },
    "id": "qVSy0s6IwguT",
    "outputId": "044cb932-cb27-457d-dd39-1279edb12ad3"
   },
   "outputs": [],
   "source": [
    "# Look at the output of our linear regression model vs the actual data (test set)\n",
    "\n",
    "# Plot Predictions\n",
    "\n",
    "# Plot Actual Data\n"
   ]
  },
  {
   "cell_type": "code",
   "execution_count": null,
   "metadata": {
    "colab": {
     "base_uri": "https://localhost:8080/"
    },
    "collapsed": true,
    "executionInfo": {
     "elapsed": 133,
     "status": "ok",
     "timestamp": 1696455130070,
     "user": {
      "displayName": "Eric Guo",
      "userId": "14148159081345199792"
     },
     "user_tz": 240
    },
    "id": "qCBvfUYhJuoy",
    "outputId": "765645e4-ad12-41a1-95c9-f38ebc3f0f00"
   },
   "outputs": [],
   "source": [
    "# Look at the slope of our linear model vs the actual slope\n"
   ]
  },
  {
   "cell_type": "code",
   "execution_count": null,
   "metadata": {
    "colab": {
     "base_uri": "https://localhost:8080/"
    },
    "collapsed": true,
    "executionInfo": {
     "elapsed": 180,
     "status": "ok",
     "timestamp": 1696455149061,
     "user": {
      "displayName": "Eric Guo",
      "userId": "14148159081345199792"
     },
     "user_tz": 240
    },
    "id": "N0YrwHi_Juoy",
    "outputId": "8b8fc5cc-71f1-40ab-9a80-3f4f2c232ff6"
   },
   "outputs": [],
   "source": [
    "# Look at the y-intercept of our model vs the actual intercept\n"
   ]
  },
  {
   "cell_type": "code",
   "execution_count": null,
   "metadata": {
    "executionInfo": {
     "elapsed": 142,
     "status": "ok",
     "timestamp": 1709602599569,
     "user": {
      "displayName": "Srivatsa Kundurthy",
      "userId": "03839108747452750167"
     },
     "user_tz": 300
    },
    "id": "kFmLuKC5Juox"
   },
   "outputs": [],
   "source": [
    "# In the future: how to create a validation set (useful for the HW)\n",
    "not_testx, test_x, not_testy, test_y = train_test_split(df[['X']], df['Y'], test_size=0.2, random_state=42)\n",
    "test_x, valid_x, test_y, valid_y = train_test_split(not_testx, not_testy, test_size=0.2, random_state=42)"
   ]
  }
 ],
 "metadata": {
  "colab": {
   "provenance": [
    {
     "file_id": "1sW0kgM_e4ZO06g8R1CpEi1R5yXiVUzcH",
     "timestamp": 1664683083019
    }
   ]
  },
  "kernelspec": {
   "display_name": "base",
   "language": "python",
   "name": "python3"
  },
  "language_info": {
   "codemirror_mode": {
    "name": "ipython",
    "version": 3
   },
   "file_extension": ".py",
   "mimetype": "text/x-python",
   "name": "python",
   "nbconvert_exporter": "python",
   "pygments_lexer": "ipython3",
   "version": "3.9.13"
  }
 },
 "nbformat": 4,
 "nbformat_minor": 0
}
