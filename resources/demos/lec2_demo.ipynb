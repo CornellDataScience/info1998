{
 "cells": [
  {
   "cell_type": "code",
   "execution_count": 4,
   "id": "d6b84365",
   "metadata": {
    "id": "d6b84365"
   },
   "outputs": [],
   "source": [
    "# importing relevant libraries\n",
    "import pandas as pd\n",
    "import numpy as np"
   ]
  },
  {
   "cell_type": "code",
   "execution_count": null,
   "id": "2fef217e",
   "metadata": {
    "id": "2fef217e"
   },
   "outputs": [
    {
     "data": {
      "text/html": [
       "<div>\n",
       "<style scoped>\n",
       "    .dataframe tbody tr th:only-of-type {\n",
       "        vertical-align: middle;\n",
       "    }\n",
       "\n",
       "    .dataframe tbody tr th {\n",
       "        vertical-align: top;\n",
       "    }\n",
       "\n",
       "    .dataframe thead th {\n",
       "        text-align: right;\n",
       "    }\n",
       "</style>\n",
       "<table border=\"1\" class=\"dataframe\">\n",
       "  <thead>\n",
       "    <tr style=\"text-align: right;\">\n",
       "      <th></th>\n",
       "      <th>PassengerId</th>\n",
       "      <th>Survived</th>\n",
       "      <th>Class</th>\n",
       "      <th>Name</th>\n",
       "      <th>Sex</th>\n",
       "      <th>Age</th>\n",
       "      <th>Ticket</th>\n",
       "      <th>Fare</th>\n",
       "      <th>Cabin</th>\n",
       "      <th>Port</th>\n",
       "    </tr>\n",
       "  </thead>\n",
       "  <tbody>\n",
       "    <tr>\n",
       "      <th>0</th>\n",
       "      <td>1</td>\n",
       "      <td>0</td>\n",
       "      <td>3</td>\n",
       "      <td>Braund, Mr. Owen Harris</td>\n",
       "      <td>male</td>\n",
       "      <td>22.0</td>\n",
       "      <td>A/5 21171</td>\n",
       "      <td>7.250</td>\n",
       "      <td>NaN</td>\n",
       "      <td>S</td>\n",
       "    </tr>\n",
       "    <tr>\n",
       "      <th>1</th>\n",
       "      <td>2</td>\n",
       "      <td>1</td>\n",
       "      <td>1</td>\n",
       "      <td>Cumings, Mrs. John Bradley (Florence Briggs Th...</td>\n",
       "      <td>female</td>\n",
       "      <td>38.0</td>\n",
       "      <td>PC 17599</td>\n",
       "      <td>NaN</td>\n",
       "      <td>C85</td>\n",
       "      <td>C</td>\n",
       "    </tr>\n",
       "    <tr>\n",
       "      <th>2</th>\n",
       "      <td>3</td>\n",
       "      <td>1</td>\n",
       "      <td>3</td>\n",
       "      <td>Heikkinen, Miss. Laina</td>\n",
       "      <td>female</td>\n",
       "      <td>26.0</td>\n",
       "      <td>STON/O2. 3101282</td>\n",
       "      <td>7.925</td>\n",
       "      <td>NaN</td>\n",
       "      <td>S</td>\n",
       "    </tr>\n",
       "    <tr>\n",
       "      <th>3</th>\n",
       "      <td>4</td>\n",
       "      <td>1</td>\n",
       "      <td>1</td>\n",
       "      <td>Futrelle, Mrs. Jacques Heath (Lily May Peel)</td>\n",
       "      <td>female</td>\n",
       "      <td>35.0</td>\n",
       "      <td>113803</td>\n",
       "      <td>53.100</td>\n",
       "      <td>C123</td>\n",
       "      <td>S</td>\n",
       "    </tr>\n",
       "    <tr>\n",
       "      <th>4</th>\n",
       "      <td>5</td>\n",
       "      <td>0</td>\n",
       "      <td>3</td>\n",
       "      <td>Allen, Mr. William Henry</td>\n",
       "      <td>male</td>\n",
       "      <td>35.0</td>\n",
       "      <td>373450</td>\n",
       "      <td>8.050</td>\n",
       "      <td>NaN</td>\n",
       "      <td>S</td>\n",
       "    </tr>\n",
       "    <tr>\n",
       "      <th>...</th>\n",
       "      <td>...</td>\n",
       "      <td>...</td>\n",
       "      <td>...</td>\n",
       "      <td>...</td>\n",
       "      <td>...</td>\n",
       "      <td>...</td>\n",
       "      <td>...</td>\n",
       "      <td>...</td>\n",
       "      <td>...</td>\n",
       "      <td>...</td>\n",
       "    </tr>\n",
       "    <tr>\n",
       "      <th>886</th>\n",
       "      <td>887</td>\n",
       "      <td>0</td>\n",
       "      <td>2</td>\n",
       "      <td>Montvila, Rev. Juozas</td>\n",
       "      <td>male</td>\n",
       "      <td>27.0</td>\n",
       "      <td>211536</td>\n",
       "      <td>13.000</td>\n",
       "      <td>NaN</td>\n",
       "      <td>S</td>\n",
       "    </tr>\n",
       "    <tr>\n",
       "      <th>887</th>\n",
       "      <td>888</td>\n",
       "      <td>1</td>\n",
       "      <td>1</td>\n",
       "      <td>Graham, Miss. Margaret Edith</td>\n",
       "      <td>female</td>\n",
       "      <td>19.0</td>\n",
       "      <td>112053</td>\n",
       "      <td>30.000</td>\n",
       "      <td>B42</td>\n",
       "      <td>S</td>\n",
       "    </tr>\n",
       "    <tr>\n",
       "      <th>888</th>\n",
       "      <td>889</td>\n",
       "      <td>0</td>\n",
       "      <td>3</td>\n",
       "      <td>Johnston, Miss. Catherine Helen \"Carrie\"</td>\n",
       "      <td>female</td>\n",
       "      <td>NaN</td>\n",
       "      <td>W./C. 6607</td>\n",
       "      <td>23.450</td>\n",
       "      <td>NaN</td>\n",
       "      <td>S</td>\n",
       "    </tr>\n",
       "    <tr>\n",
       "      <th>889</th>\n",
       "      <td>890</td>\n",
       "      <td>1</td>\n",
       "      <td>1</td>\n",
       "      <td>Behr, Mr. Karl Howell</td>\n",
       "      <td>male</td>\n",
       "      <td>26.0</td>\n",
       "      <td>111369</td>\n",
       "      <td>NaN</td>\n",
       "      <td>C148</td>\n",
       "      <td>C</td>\n",
       "    </tr>\n",
       "    <tr>\n",
       "      <th>890</th>\n",
       "      <td>891</td>\n",
       "      <td>0</td>\n",
       "      <td>3</td>\n",
       "      <td>Dooley, Mr. Patrick</td>\n",
       "      <td>male</td>\n",
       "      <td>32.0</td>\n",
       "      <td>370376</td>\n",
       "      <td>7.750</td>\n",
       "      <td>NaN</td>\n",
       "      <td>Q</td>\n",
       "    </tr>\n",
       "  </tbody>\n",
       "</table>\n",
       "<p>891 rows × 10 columns</p>\n",
       "</div>"
      ],
      "text/plain": [
       "     PassengerId  Survived  Class  \\\n",
       "0              1         0      3   \n",
       "1              2         1      1   \n",
       "2              3         1      3   \n",
       "3              4         1      1   \n",
       "4              5         0      3   \n",
       "..           ...       ...    ...   \n",
       "886          887         0      2   \n",
       "887          888         1      1   \n",
       "888          889         0      3   \n",
       "889          890         1      1   \n",
       "890          891         0      3   \n",
       "\n",
       "                                                  Name     Sex   Age  \\\n",
       "0                              Braund, Mr. Owen Harris    male  22.0   \n",
       "1    Cumings, Mrs. John Bradley (Florence Briggs Th...  female  38.0   \n",
       "2                               Heikkinen, Miss. Laina  female  26.0   \n",
       "3         Futrelle, Mrs. Jacques Heath (Lily May Peel)  female  35.0   \n",
       "4                             Allen, Mr. William Henry    male  35.0   \n",
       "..                                                 ...     ...   ...   \n",
       "886                              Montvila, Rev. Juozas    male  27.0   \n",
       "887                       Graham, Miss. Margaret Edith  female  19.0   \n",
       "888           Johnston, Miss. Catherine Helen \"Carrie\"  female   NaN   \n",
       "889                              Behr, Mr. Karl Howell    male  26.0   \n",
       "890                                Dooley, Mr. Patrick    male  32.0   \n",
       "\n",
       "               Ticket    Fare Cabin Port  \n",
       "0           A/5 21171   7.250   NaN    S  \n",
       "1            PC 17599     NaN   C85    C  \n",
       "2    STON/O2. 3101282   7.925   NaN    S  \n",
       "3              113803  53.100  C123    S  \n",
       "4              373450   8.050   NaN    S  \n",
       "..                ...     ...   ...  ...  \n",
       "886            211536  13.000   NaN    S  \n",
       "887            112053  30.000   B42    S  \n",
       "888        W./C. 6607  23.450   NaN    S  \n",
       "889            111369     NaN  C148    C  \n",
       "890            370376   7.750   NaN    Q  \n",
       "\n",
       "[891 rows x 10 columns]"
      ]
     },
     "execution_count": 10,
     "metadata": {},
     "output_type": "execute_result"
    }
   ],
   "source": [
    "#Open Lecture 2 Dataframe, print df and head\n",
    "df=pd.read_csv('lecture2data.csv')\n",
    "df"
   ]
  },
  {
   "cell_type": "code",
   "execution_count": 7,
   "id": "949664fb",
   "metadata": {
    "id": "949664fb",
    "outputId": "faa315d8-cc88-45f3-9fa1-f04974ec3dbe"
   },
   "outputs": [],
   "source": [
    "#Look at columns in Dataframe"
   ]
  },
  {
   "cell_type": "code",
   "execution_count": 6,
   "id": "014093eb",
   "metadata": {
    "id": "014093eb"
   },
   "outputs": [],
   "source": [
    "#Look at certain column "
   ]
  },
  {
   "cell_type": "code",
   "execution_count": null,
   "id": "29a1b3ac",
   "metadata": {
    "id": "29a1b3ac"
   },
   "outputs": [],
   "source": [
    "# Filtering\n",
    "# Access a group of rows and columns by label(s) or a boolean array.\n",
    "FareAbove20_YoungerThan40=..."
   ]
  },
  {
   "cell_type": "code",
   "execution_count": null,
   "id": "bc9d0ece",
   "metadata": {},
   "outputs": [],
   "source": []
  },
  {
   "cell_type": "code",
   "execution_count": null,
   "id": "20d45264",
   "metadata": {
    "id": "20d45264"
   },
   "outputs": [],
   "source": [
    "#Find mean of a column"
   ]
  },
  {
   "cell_type": "code",
   "execution_count": null,
   "id": "3076d026",
   "metadata": {
    "id": "3076d026"
   },
   "outputs": [],
   "source": [
    "#Fillna"
   ]
  },
  {
   "cell_type": "code",
   "execution_count": null,
   "id": "3fc38563",
   "metadata": {
    "id": "3fc38563"
   },
   "outputs": [],
   "source": [
    "#Dummy Encoding \n",
    "df['male']=0\n",
    "df['female']=0\n",
    "df"
   ]
  },
  {
   "cell_type": "code",
   "execution_count": null,
   "id": "db596152",
   "metadata": {
    "id": "db596152"
   },
   "outputs": [],
   "source": [
    "#Fill in dummy columns!\n",
    "\n",
    "# not recommended!"
   ]
  },
  {
   "cell_type": "code",
   "execution_count": null,
   "id": "9ecf5619",
   "metadata": {},
   "outputs": [],
   "source": [
    "# better way!"
   ]
  }
 ],
 "metadata": {
  "colab": {
   "provenance": []
  },
  "kernelspec": {
   "display_name": "base",
   "language": "python",
   "name": "python3"
  },
  "language_info": {
   "codemirror_mode": {
    "name": "ipython",
    "version": 3
   },
   "file_extension": ".py",
   "mimetype": "text/x-python",
   "name": "python",
   "nbconvert_exporter": "python",
   "pygments_lexer": "ipython3",
   "version": "3.9.13"
  }
 },
 "nbformat": 4,
 "nbformat_minor": 5
}
