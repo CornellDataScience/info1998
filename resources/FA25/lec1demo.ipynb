{
  "cells": [
    {
      "cell_type": "code",
      "execution_count": 7,
      "metadata": {
        "id": "_I5ZZfTyFvEa"
      },
      "outputs": [],
      "source": [
        "# <- this is the symbol for a comment\n",
        "\n",
        "# Things we'll be covering:\n",
        "# - Creating and printing variables\n",
        "# - Conditionals and loops\n",
        "# - Lists\n",
        "# - NumPy and Documentation"
      ]
    },
    {
      "cell_type": "markdown",
      "source": [
        "Hello!"
      ],
      "metadata": {
        "id": "ekBL96ndmGJj"
      }
    },
    {
      "cell_type": "markdown",
      "source": [
        "# asdf"
      ],
      "metadata": {
        "id": "M1UCepNsf33V"
      }
    },
    {
      "cell_type": "code",
      "execution_count": 8,
      "metadata": {
        "id": "Fr1R_chpFvEe",
        "outputId": "33a8b433-5e27-4351-ca60-fd166b6c1083",
        "colab": {
          "base_uri": "https://localhost:8080/",
          "height": 67
        }
      },
      "outputs": [
        {
          "output_type": "stream",
          "name": "stdout",
          "text": [
            "4\n",
            "INFO 1998\n"
          ]
        },
        {
          "output_type": "execute_result",
          "data": {
            "text/plain": [
              "'INFO 1998'"
            ],
            "application/vnd.google.colaboratory.intrinsic+json": {
              "type": "string"
            }
          },
          "metadata": {},
          "execution_count": 8
        }
      ],
      "source": [
        "# Creating a variable\n",
        "# Note - do not need to indicate type\n",
        "n = 4\n",
        "lecture = 'INFO 1998'\n",
        "\n",
        "# if you want to print it\n",
        "print(n)\n",
        "print(lecture)\n",
        "\n",
        "# can also just type the variable name without 'print' (as long as the last item in cell)\n",
        "lecture"
      ]
    },
    {
      "cell_type": "code",
      "execution_count": 9,
      "metadata": {
        "id": "4ZJ3xLWoFvEg",
        "outputId": "5be86375-2a0f-48ba-e845-b9c8fd903751",
        "colab": {
          "base_uri": "https://localhost:8080/"
        }
      },
      "outputs": [
        {
          "output_type": "stream",
          "name": "stdout",
          "text": [
            "1\n",
            "2\n",
            "3\n",
            "4\n",
            "sum 10\n"
          ]
        }
      ],
      "source": [
        "total = 0\n",
        "for x in range(1, n+1): # note that range is exclusive for the right value\n",
        "    print(x)\n",
        "    total += x\n",
        "print(\"sum\", total)\n",
        "\n",
        "# One-line solution (bonus)\n",
        "# print(sum([x for x in range(1, n+1)]))"
      ]
    },
    {
      "cell_type": "code",
      "execution_count": 10,
      "metadata": {
        "id": "oUrNKcxJFvEi",
        "outputId": "b6f959b2-885d-4bad-e0cb-b1ff14952011",
        "colab": {
          "base_uri": "https://localhost:8080/"
        }
      },
      "outputs": [
        {
          "output_type": "stream",
          "name": "stdout",
          "text": [
            "sum is 10!!!\n"
          ]
        }
      ],
      "source": [
        "# if statement\n",
        "if total == 10:\n",
        "    print (\"sum is 10!!!\")\n",
        "else:\n",
        "    print (\"sum is not 10\")"
      ]
    },
    {
      "cell_type": "code",
      "execution_count": 11,
      "metadata": {
        "id": "gRjzZ_76FvEi"
      },
      "outputs": [],
      "source": [
        "# lets talk about lists\n",
        "list1 = [3,1,4,1,5,9,2,6]"
      ]
    },
    {
      "cell_type": "code",
      "execution_count": 12,
      "metadata": {
        "id": "NpzqwLDrFvEj",
        "outputId": "8e348280-2492-43f1-f27b-ff45a200ad83",
        "colab": {
          "base_uri": "https://localhost:8080/"
        }
      },
      "outputs": [
        {
          "output_type": "stream",
          "name": "stdout",
          "text": [
            "fifth index 9\n",
            "4 Through 7 [5, 9, 2, 6]\n",
            "Before [3, 1, 4, 1, 5, 9, 2, 6]\n",
            "After [3, 1, 4, 1, 5, 9, 2, 6, 5]\n"
          ]
        }
      ],
      "source": [
        "print('fifth index', list1[5])\n",
        "\n",
        "print(\"4 Through 7\", list1[4:8]) # exclusive end index\n",
        "\n",
        "print(\"Before\", list1)\n",
        "\n",
        "list1.append(5)\n",
        "\n",
        "print(\"After\", list1)"
      ]
    },
    {
      "cell_type": "code",
      "execution_count": 13,
      "metadata": {
        "id": "Uk9HjAB8FvEj",
        "outputId": "ae6b5991-15e3-4208-d038-5506d47b1640",
        "colab": {
          "base_uri": "https://localhost:8080/"
        }
      },
      "outputs": [
        {
          "output_type": "stream",
          "name": "stdout",
          "text": [
            "3\n",
            "1\n",
            "4\n",
            "1\n",
            "5\n",
            "9\n",
            "2\n",
            "6\n",
            "5\n",
            "sum 36\n"
          ]
        }
      ],
      "source": [
        "total = 0\n",
        "for x in list1:\n",
        "    print(x)\n",
        "    total += x\n",
        "print(\"sum\", total)\n",
        "\n",
        "# print(sum(list1))"
      ]
    },
    {
      "cell_type": "code",
      "execution_count": 14,
      "metadata": {
        "id": "XpyKQ8DuFvEk"
      },
      "outputs": [],
      "source": [
        "# You can perform different operations on each value in a list\n",
        "# + - * / ** %"
      ]
    },
    {
      "cell_type": "code",
      "source": [
        "# you can change the values of elements in arrays\n",
        "for i in range(len(list1)):\n",
        "  list1[i] += 1\n",
        "list1"
      ],
      "metadata": {
        "colab": {
          "base_uri": "https://localhost:8080/"
        },
        "id": "Dy1_5ucRRwhW",
        "outputId": "6575b5e5-a1b5-4a38-961c-711014e843be"
      },
      "execution_count": 15,
      "outputs": [
        {
          "output_type": "execute_result",
          "data": {
            "text/plain": [
              "[4, 2, 5, 2, 6, 10, 3, 7, 6]"
            ]
          },
          "metadata": {},
          "execution_count": 15
        }
      ]
    },
    {
      "cell_type": "code",
      "source": [
        "# be careful! this loop changes only the loop variable, not the list contents\n",
        "for i in list1:\n",
        "  i += 1\n",
        "list1"
      ],
      "metadata": {
        "colab": {
          "base_uri": "https://localhost:8080/"
        },
        "id": "71SLVTYtZzkx",
        "outputId": "ae17d0b9-bd4f-445e-d5cd-fa323cfe74fb"
      },
      "execution_count": 16,
      "outputs": [
        {
          "output_type": "execute_result",
          "data": {
            "text/plain": [
              "[4, 2, 5, 2, 6, 10, 3, 7, 6]"
            ]
          },
          "metadata": {},
          "execution_count": 16
        }
      ]
    },
    {
      "cell_type": "code",
      "execution_count": 17,
      "metadata": {
        "id": "2GXmxgJcFvEk"
      },
      "outputs": [],
      "source": [
        "# Importing Numpy\n",
        "# fundamental package for computing\n",
        "import numpy as np"
      ]
    },
    {
      "cell_type": "code",
      "execution_count": 18,
      "metadata": {
        "id": "pUcCKYrPFvEk",
        "outputId": "24705a4a-1485-44c9-c63c-5f99c1e56340",
        "colab": {
          "base_uri": "https://localhost:8080/"
        }
      },
      "outputs": [
        {
          "output_type": "stream",
          "name": "stdout",
          "text": [
            "[1 2 3]\n"
          ]
        }
      ],
      "source": [
        "arr1 = np.array([1,2,3])\n",
        "print (arr1)"
      ]
    },
    {
      "cell_type": "code",
      "execution_count": 19,
      "metadata": {
        "id": "NeLFZvPzFvEl",
        "outputId": "f54b34e1-c527-4c37-c049-9f224aa0ec01",
        "colab": {
          "base_uri": "https://localhost:8080/"
        }
      },
      "outputs": [
        {
          "output_type": "stream",
          "name": "stdout",
          "text": [
            "[[4 5 6]\n",
            " [7 8 9]]\n"
          ]
        }
      ],
      "source": [
        "lst = [1,3]\n",
        "np.array(lst)\n",
        "arr2 = np.array([[4,5,6],[7,8,9]]) #2d array\n",
        "print (arr2)"
      ]
    },
    {
      "cell_type": "code",
      "execution_count": 20,
      "metadata": {
        "id": "TCgT5kJ8FvEm",
        "outputId": "66bc5cdf-a7e7-4279-b745-4ed9c6c823d7",
        "colab": {
          "base_uri": "https://localhost:8080/"
        }
      },
      "outputs": [
        {
          "output_type": "stream",
          "name": "stdout",
          "text": [
            "first index is first row:  [4 5 6]\n",
            "specific entry:  9\n"
          ]
        }
      ],
      "source": [
        "print (\"first index is first row: \", arr2[0]) # note that we start with 0\n",
        "\n",
        "print (\"specific entry: \", arr2[1][2])"
      ]
    },
    {
      "cell_type": "code",
      "execution_count": 21,
      "metadata": {
        "id": "FPK0dF66FvEm",
        "outputId": "cd2f7c01-50be-46ff-cf4c-f79752c3d753",
        "colab": {
          "base_uri": "https://localhost:8080/"
        }
      },
      "outputs": [
        {
          "output_type": "stream",
          "name": "stdout",
          "text": [
            "[[9 9 7]\n",
            " [6 4 5]]\n"
          ]
        }
      ],
      "source": [
        "# can create an array filled with random values\n",
        "arr3 = np.random.randint(1, 10,(2,3)) #(low,high-exclusive,(#rows,#cols))\n",
        "print(arr3)"
      ]
    },
    {
      "cell_type": "code",
      "execution_count": 22,
      "metadata": {
        "id": "HZMHnqkTFvEn",
        "outputId": "5ec5b479-8c2f-4a9b-a0fd-9593a259e4a5",
        "colab": {
          "base_uri": "https://localhost:8080/"
        }
      },
      "outputs": [
        {
          "output_type": "execute_result",
          "data": {
            "text/plain": [
              "np.int64(15)"
            ]
          },
          "metadata": {},
          "execution_count": 22
        }
      ],
      "source": [
        "# can perform fun operations\n",
        "np.median(arr3[0])\n",
        "np.max(arr3)\n",
        "np.sum(arr3[1])"
      ]
    },
    {
      "cell_type": "code",
      "execution_count": 23,
      "metadata": {
        "id": "rULj6npGFvEn",
        "outputId": "fee18cd6-e8b6-4952-cab4-9196f8da7273",
        "colab": {
          "base_uri": "https://localhost:8080/"
        }
      },
      "outputs": [
        {
          "output_type": "stream",
          "name": "stdout",
          "text": [
            "[1 2 3]\n",
            "[[4 5 6]\n",
            " [7 8 9]]\n"
          ]
        }
      ],
      "source": [
        "print(arr1)\n",
        "print(arr2)"
      ]
    },
    {
      "cell_type": "code",
      "execution_count": 24,
      "metadata": {
        "id": "K491Dtg7FvEn",
        "outputId": "ba6e96f0-f893-4864-d5f3-331a2d467796",
        "colab": {
          "base_uri": "https://localhost:8080/"
        }
      },
      "outputs": [
        {
          "output_type": "execute_result",
          "data": {
            "text/plain": [
              "array([1, 2, 3, 4, 5, 6, 7, 8, 9])"
            ]
          },
          "metadata": {},
          "execution_count": 24
        }
      ],
      "source": [
        "np.union1d(arr1,arr2) # will not contain duplicate values"
      ]
    },
    {
      "cell_type": "code",
      "execution_count": 25,
      "metadata": {
        "id": "D8i3dGprFvEo",
        "outputId": "e30ee6dc-ee4a-4ed9-87ae-fb731f9ffa22",
        "colab": {
          "base_uri": "https://localhost:8080/"
        }
      },
      "outputs": [
        {
          "output_type": "stream",
          "name": "stdout",
          "text": [
            "[5 6 7]\n"
          ]
        }
      ],
      "source": [
        "arr4 = np.array([5,6,7])\n",
        "print(np.intersect1d(arr2, arr4))"
      ]
    },
    {
      "cell_type": "code",
      "execution_count": 26,
      "metadata": {
        "id": "HdLwdKvjFvEo"
      },
      "outputs": [],
      "source": [
        "# more examples and commands in the homework!!!"
      ]
    }
  ],
  "metadata": {
    "kernelspec": {
      "display_name": "Python 3",
      "language": "python",
      "name": "python3"
    },
    "language_info": {
      "codemirror_mode": {
        "name": "ipython",
        "version": 3
      },
      "file_extension": ".py",
      "mimetype": "text/x-python",
      "name": "python",
      "nbconvert_exporter": "python",
      "pygments_lexer": "ipython3",
      "version": "3.8.5"
    },
    "colab": {
      "provenance": []
    }
  },
  "nbformat": 4,
  "nbformat_minor": 0
}