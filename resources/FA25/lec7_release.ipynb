{
 "cells": [
  {
   "cell_type": "markdown",
   "metadata": {
    "id": "7EwRP4d5yiWA"
   },
   "source": [
    "# Assignment 7: Applications of Supervised Learning"
   ]
  },
  {
   "cell_type": "markdown",
   "metadata": {
    "id": "vfHuUYUcyiV9"
   },
   "source": [
    "### <b>NetID</b>: PLEASE FILL ME IN"
   ]
  },
  {
   "cell_type": "markdown",
   "metadata": {
    "id": "nbbZkwsabYBd"
   },
   "source": [
    "### Problems\n",
    "- Problem 1 (3 points total)\n",
    "  - 1a (2 points)\n",
    "  - 1b (1 point)\n",
    "- Problem 2 (6 points total)\n",
    "  - 2a (2 points)\n",
    "  - 2b (2 points)\n",
    "  - 2c (2 points)\n",
    "- Problem 3 (1 point)\n",
    "- Bonus (2 points)"
   ]
  },
  {
   "cell_type": "markdown",
   "metadata": {
    "id": "YbZzB_tTyiWB"
   },
   "source": [
    "Last class we covered popular machine learning model used for linear classification. In this lecture, we went over two more classification models: Decision Trees and Logistic Regression. Each of these models have their own underlying assumptions and advantages."
   ]
  },
  {
   "cell_type": "markdown",
   "metadata": {
    "id": "PfUL_l4_q9Ua"
   },
   "source": [
    "### Import necessary packages"
   ]
  },
  {
   "cell_type": "code",
   "execution_count": null,
   "metadata": {
    "executionInfo": {
     "elapsed": 2299,
     "status": "ok",
     "timestamp": 1698681939470,
     "user": {
      "displayName": "Deniz Boloni-Turgut",
      "userId": "05746704740663907513"
     },
     "user_tz": 240
    },
    "id": "FjL8712iyiWG"
   },
   "outputs": [],
   "source": [
    "import pandas as pd\n",
    "from sklearn.metrics import accuracy_score\n",
    "from sklearn.model_selection import train_test_split\n",
    "from sklearn.tree import DecisionTreeClassifier\n",
    "from sklearn.neighbors import KNeighborsClassifier\n",
    "from sklearn import tree\n",
    "#from sklearn import datasets\n",
    "from sklearn.preprocessing import LabelEncoder\n",
    "from sklearn.linear_model import LogisticRegression"
   ]
  },
  {
   "cell_type": "markdown",
   "metadata": {
    "id": "ADXaco3fyiWC"
   },
   "source": [
    "# Decision Trees"
   ]
  },
  {
   "cell_type": "markdown",
   "metadata": {
    "id": "ZDXmfq7KyiWD"
   },
   "source": [
    "The decision tree algorithm can be used to do both classification as well as regression. It has the advantage of not assuming a linear model*. Decisions trees are usually easy to represent visually which makes it easy to understand how the model actually works.\n",
    "\n",
    "\\* Decision trees are piecewise linear - they have linear boundaries for components, but having multiple branches/layers makes non-linear overall."
   ]
  },
  {
   "cell_type": "markdown",
   "metadata": {
    "id": "IAcN-VpfkgP_"
   },
   "source": [
    "### Geometric Intuition\n",
    "\n",
    "In the bottom photo, we can interpret decision trees abstractly as tree figures. The tree branches from a deciding condition (node) into another deciding condition or a final classification. For instance, at the top node, a sample can either have \\<61k income or \\>=61k income. If it is the former, we classify the sample as not having attended the Burning Man festival. Otherwise, we continue branching.\n",
    "\n",
    "These condition nodes can be visualized as linear boundaries on a coordinate system. Notice which conditions correspond to which lines. Also note how some boundaries do not stretch the entire plane, because they were branched off other nodes."
   ]
  },
  {
   "cell_type": "markdown",
   "metadata": {
    "id": "n7MCq3xFyiWD"
   },
   "source": [
    "![image](https://docs.microsoft.com/en-us/azure/machine-learning/studio/media/algorithm-choice/image5.png)"
   ]
  },
  {
   "cell_type": "markdown",
   "metadata": {
    "id": "9ZlPObQYyiWE"
   },
   "source": [
    "### Mathematical Intuition\n",
    "To understand the mathematical basis behind decision trees, we ask a motivation question: How do we know what conditions to choose to split upon?\n",
    "\n",
    "We can create a measure to determine the quality of a condition node. This measure can be based on what feature we choose, as well as the specific point we decide to split upon. Data scientists refer to this quantity as *entropy*.\n",
    "\n",
    "The goal of the full decision tree algorithm is to take the necessary steps to minimize entropy, choosing the right features at every stage to accomplish this."
   ]
  },
  {
   "cell_type": "markdown",
   "metadata": {
    "id": "XuC97nzAyiWI"
   },
   "source": [
    "### Example: Breast Cancer Diagnosis\n",
    "The following dataset contains information about digitized images of a fine needle aspirate (FNA) of a breast mass. Each row in our dataset contains data for a patient. The 'diagnosis' column tells us the outcomne of whether or not a patient was diagnosis was benign (b) or malignant (m)."
   ]
  },
  {
   "cell_type": "code",
   "execution_count": null,
   "metadata": {
    "colab": {
     "base_uri": "https://localhost:8080/",
     "height": 381
    },
    "executionInfo": {
     "elapsed": 403,
     "status": "error",
     "timestamp": 1698681944514,
     "user": {
      "displayName": "Deniz Boloni-Turgut",
      "userId": "05746704740663907513"
     },
     "user_tz": 240
    },
    "id": "GsV5x5fDyiWJ",
    "outputId": "6bd6ab3c-cc27-4b24-c209-43dc7fc5b4fa"
   },
   "outputs": [],
   "source": [
    "df = pd.read_csv('lecture8example.csv')\n",
    "X=df.drop(['id', 'diagnosis', 'Unnamed: 32'], axis=1)\n",
    "Y=df['diagnosis']\n",
    "df.head()"
   ]
  },
  {
   "cell_type": "code",
   "execution_count": 4,
   "metadata": {
    "id": "AuoTL-jYyiWK"
   },
   "outputs": [],
   "source": [
    "X_train, X_test, Y_train, Y_test = train_test_split(X, Y, test_size=0.33, random_state=1998)"
   ]
  },
  {
   "cell_type": "markdown",
   "metadata": {
    "id": "5rkbMsOlyiWM"
   },
   "source": [
    "## Problem 1a (2 pts)\n",
    "Now we are going to see how a decision tree performs in predicting which tumors are malignant. In the next cell, train the decision tree classifier on our training data, and then calulate the training accuracy and testing accuracy."
   ]
  },
  {
   "cell_type": "code",
   "execution_count": null,
   "metadata": {
    "id": "o9nEt05NyiWN"
   },
   "outputs": [],
   "source": [
    "# This is the function we use to create the decision tree model\n",
    "model = tree.DecisionTreeClassifier(max_depth = 5)\n",
    "\n",
    "# TODO: train the model\n",
    "# FILL IN HERE\n",
    "\n",
    "# TODO: Calculate the training and testing accuracy\n",
    "dtree_pred_train = \"FILL IN HERE\"\n",
    "dtree_pred_test = \"FILL IN HERE\"\n",
    "print(\"Train Accuracy: \", \"FILL IN HERE\")\n",
    "print(\"Test Accuracy: \", \"FILL IN HERE\")\n"
   ]
  },
  {
   "cell_type": "markdown",
   "metadata": {
    "id": "vWObiIwmyiWN"
   },
   "source": [
    "## Problem 1b (1 pt)\n",
    "Interpret the accuracy values you found to with the DecisionTreeClassifier with. Please make sure to answer the following questions:\n",
    "1. How do these scores differ with the scores of the KNN classifier in assignment 6?\n",
    "2. Is the model underfitting or overfitiing our data?\n",
    "3. How do the scores change as we vary the max_depth of our tree?"
   ]
  },
  {
   "cell_type": "markdown",
   "metadata": {
    "id": "JP1RV1H1yiWO"
   },
   "source": [
    "<b>Fill in answer here!</b>"
   ]
  },
  {
   "cell_type": "markdown",
   "metadata": {
    "id": "zkr6mWjQyiWO"
   },
   "source": [
    "# Logistic Regression"
   ]
  },
  {
   "cell_type": "markdown",
   "metadata": {
    "id": "IVD31RFPyiWP"
   },
   "source": [
    "Logistic regression, like linear regression, is a generalized linear model. However, the final output of a logistic regression model is not continuous; it is binary (0 or 1). The following sections will explain how this works."
   ]
  },
  {
   "cell_type": "markdown",
   "metadata": {
    "id": "aOx9CNjMyiWP"
   },
   "source": [
    "### A Mathematical Overview (for the brave)\n",
    "The goal of logistic regression is to take a set of datapoints and classify them. This means that we expect to have discrete outputs representing a set of classes. In simple logistic regression, this must be a binary set: our classes must be one of only two possible values. Here are some things that are sometimes modeled as binary classes:\n",
    "\n",
    "<li> Sick or Not Sick </li>\n",
    "<li> Rainy or Dry </li>\n",
    "<li> Democrat or Republican </li>\n",
    "\n",
    "The objective is to find an equation that is able to take input data and classify it into one of the two classes. Luckily, the logistic equation is for just such a task."
   ]
  },
  {
   "cell_type": "markdown",
   "metadata": {
    "id": "7hBxR-a3yiWQ"
   },
   "source": [
    "The <b>logistic equation</b> is the basis of the logistic regression model. It looks like this:\n",
    "\n",
    "![image](https://wikimedia.org/api/rest_v1/media/math/render/svg/5e648e1dd38ef843d57777cd34c67465bbca694f)\n",
    "\n",
    "The t in the equation is some linear combination of n variables, or a linear function in an n-dimensional feature space. The formulation of t therefore has the form ax+b. In fitting a logistic regression model, the goal is therefore to minimize error in the logistic equation with the chosen t (of the form ax+b)  by tuning a and b.\n",
    "\n",
    "\n",
    "The logistic equation (also known as the sigmoid function) works as follows:\n",
    "1. Takes an input of n variables\n",
    "2. Takes a linear combination of the variables as parameter t (this is another way of saying t has the form ax+b)\n",
    "3. Outputs a value given the input and parameter t\n",
    "\n",
    "The output of the logistic equation is always between 0 and 1.\n",
    "\n",
    "A visualization of the outputs of the logistic equation is as below (note that this is but one possible output of a logit regression model):\n",
    "![image](https://upload.wikimedia.org/wikipedia/commons/8/88/Logistic-curve.svg)"
   ]
  },
  {
   "cell_type": "markdown",
   "metadata": {
    "id": "YHv3bxNcyiWQ"
   },
   "source": [
    "### Income Prediction\n",
    "We'll use logistic regression to predict whether annual income is greater than $50k based on census data. You can read more about the dataset <a href=\"https://www.kaggle.com/uciml/adult-census-income\">here</a>."
   ]
  },
  {
   "cell_type": "code",
   "execution_count": null,
   "metadata": {
    "colab": {
     "base_uri": "https://localhost:8080/",
     "height": 296
    },
    "executionInfo": {
     "elapsed": 1010,
     "status": "ok",
     "timestamp": 1698683046687,
     "user": {
      "displayName": "Deniz Boloni-Turgut",
      "userId": "05746704740663907513"
     },
     "user_tz": 240
    },
    "id": "aVNkVWGtyiWS",
    "outputId": "92fd892b-85f4-47ab-d388-9fcb8d37ff3a",
    "scrolled": true
   },
   "outputs": [],
   "source": [
    "inc_data = pd.read_csv('https://archive.ics.uci.edu/ml/machine-learning-databases/adult/adult.data', header = None, names = ['age', 'workclass', 'fnlwgt', 'education', 'education.num', 'marital.status', 'occupation', 'relationship', 'race', 'sex', 'capital.gain', 'capital.loss', 'hours.per.week', 'native.country', 'income'])\n",
    "# drop null values\n",
    "inc_data = inc_data.dropna()\n",
    "inc_data.head()"
   ]
  },
  {
   "cell_type": "markdown",
   "metadata": {
    "id": "MtCBEu55yiWT"
   },
   "source": [
    "Our goal is to predict whether a person's income is less than <=50K  or >50K. Right now the data in the income column is stored as a string, but we want to look at it as binary data.\n",
    "\n",
    "Below, we have converted the data in that column so that an income value of <=50K would be a 0, and an income value of >50K would be a 1. We iterate over the dataframe and use an if/else statement with \" <=50K\" and \" >50K\" (notice the spaces), but we can alternatively use `pd.get_dummies()`."
   ]
  },
  {
   "cell_type": "code",
   "execution_count": null,
   "metadata": {
    "colab": {
     "base_uri": "https://localhost:8080/"
    },
    "id": "PpdZzTuUyiWT",
    "outputId": "8e4adf26-fa1c-4113-a29e-3fd974ea9f82"
   },
   "outputs": [],
   "source": [
    "inc = inc_data['income']\n",
    "\n",
    "for i in range(0, len(inc)):\n",
    "    if inc[i] == \" <=50K\":\n",
    "        inc[i] = 0\n",
    "    elif inc[i] == \" >50K\":\n",
    "        inc[i] = 1\n",
    "print(inc)"
   ]
  },
  {
   "cell_type": "markdown",
   "metadata": {
    "id": "tjX-1YoJyiWU"
   },
   "source": [
    "Instead of manually converting all categorical data to quantitative data, we will use the LabelEncoder function."
   ]
  },
  {
   "cell_type": "code",
   "execution_count": null,
   "metadata": {
    "colab": {
     "base_uri": "https://localhost:8080/",
     "height": 250
    },
    "executionInfo": {
     "elapsed": 200,
     "status": "error",
     "timestamp": 1698683041221,
     "user": {
      "displayName": "Deniz Boloni-Turgut",
      "userId": "05746704740663907513"
     },
     "user_tz": 240
    },
    "id": "T6l1g4F8yiWU",
    "outputId": "fd6d47c9-ea09-467a-821a-7d4e67fa1c75"
   },
   "outputs": [],
   "source": [
    "# the column is present in both categorical and numeric form\n",
    "del inc_data['education']\n",
    "\n",
    "# convert all features to categorical integer values\n",
    "enc = LabelEncoder()\n",
    "for i in inc_data.columns:\n",
    "    inc_data[i] = enc.fit_transform(inc_data[i])"
   ]
  },
  {
   "cell_type": "markdown",
   "metadata": {
    "id": "aJ98Jmv8yiWU"
   },
   "source": [
    "## Problem 2a (2 pts)\n",
    "\n",
    "Build a logistic regression model predicting income based on other income related factors (e.g. `education.num`). You should split the dataset into a training set and a test set as covered previously in the course, fit the model on the observations in the training set, and predict the target variable for the test set. Save your predictions in a variable named `predictions`."
   ]
  },
  {
   "cell_type": "code",
   "execution_count": null,
   "metadata": {
    "id": "hQHYVp69yiWU",
    "scrolled": true
   },
   "outputs": [],
   "source": [
    "# we separate X (features) and income Y (target)\n",
    "incX = inc_data[['education.num']]\n",
    "incY = inc_data['income']\n",
    "\n",
    "# TODO: train test split your data with 20% being used for testing\n",
    "incX_train, incX_test, incY_train, incY_test = \"FILL IN HERE\"\n",
    "\n",
    "# This is the function we use to create the logistic regression model (default k=5)\n",
    "model = LogisticRegression()\n",
    "\n",
    "# TODO: fit the model using the train data\n",
    "# FILL IN HERE\n",
    "\n",
    "# TODO store the predictions for the training and test set\n",
    "pred_train = \"FILL IN HERE\"\n",
    "pred_test = \"FILL IN HERE\"\n",
    "\n",
    "print(\"Test Accuracy: \", accuracy_score(\"FILL IN HERE\", \"FILL IN HERE\"))\n",
    "print(\"Training Accuracy: \", accuracy_score(\"FILL IN HERE\", \"FILL IN HERE\"))\n"
   ]
  },
  {
   "cell_type": "markdown",
   "metadata": {
    "id": "31cMv8yvyiWV"
   },
   "source": [
    "\n",
    "\n",
    "## Problem 2b (2 pts):\n",
    "Let's see how a decision tree classifier performs with different `max_depth` values.\n",
    "\n",
    "Complete the following code so we find the `max_depth` that gives us the best test accuracy. We can do this by iterating over various values of depth `k`, training."
   ]
  },
  {
   "cell_type": "code",
   "execution_count": null,
   "metadata": {
    "id": "6zlldW3MyiWV"
   },
   "outputs": [],
   "source": [
    "best_depth = 1      # Keep track of depth that produces tree with highest accuracy\n",
    "best_accuracy = 0   # The best accuracy from a given tree\n",
    "for k in range(1, 100):\n",
    "    # TODO: create and fit a model of depth k\n",
    "    model = \"FILL IN HERE\"\n",
    "\n",
    "    # TODO: find the accuracy of the model's predictions (pred_test)\n",
    "    # compared to the actual samples, and score the accuracy in acc_test.\n",
    "    pred_test = \"FILL IN HERE\"\n",
    "    acc_test = \"FILL IN HERE\"\n",
    "\n",
    "    # TODO: compare the accuracy found with the best current depth/accuracy found\n",
    "    # and update if necessary\n",
    "\n",
    "    # YOUR CODE GOES HERE\n",
    "\n",
    "print(best_accuracy)\n",
    "print(best_depth)"
   ]
  },
  {
   "cell_type": "markdown",
   "metadata": {
    "id": "xOihji0xyiWV"
   },
   "source": [
    "## Problem 2c (2 pts):\n",
    "Using the most accurate depth value found in part (b), estimate the ERROR (not accuracy) of your model by using 5-fold cross validation. Refer the documentation found [here](https://scikit-learn.org/stable/modules/generated/sklearn.model_selection.KFold.html)"
   ]
  },
  {
   "cell_type": "code",
   "execution_count": null,
   "metadata": {
    "id": "tQDKyvqLyiWV"
   },
   "outputs": [],
   "source": [
    "from sklearn.model_selection import KFold\n",
    "\n",
    "# Fill in code here\n",
    "kf = \"FILL IN HERE\"\n",
    "errors = 0\n",
    "for train_index, test_index in kf.split(incX):\n",
    "    # TODO: define X_train, X_test, Y_train, Y_test\n",
    "\n",
    "\n",
    "    # TODO: define model\n",
    "    model = \"FILL IN HERE\"\n",
    "\n",
    "    # TODO: fit model\n",
    "    # FILL IN HERE\n",
    "\n",
    "    # TODO: compare predictions with actual targets, add accuracy_score to errors\n",
    "    # FILL IN HERE\n",
    "errors /= 5\n",
    "print(errors)"
   ]
  },
  {
   "cell_type": "markdown",
   "metadata": {
    "id": "o8nWiNQxdTDU"
   },
   "source": [
    "## Problem 3 (1 pt):\n",
    "### How does the depth of a decision tree affect overfitting?\n",
    "\n",
    "<b>fill in here!</b>"
   ]
  },
  {
   "cell_type": "markdown",
   "metadata": {
    "id": "c5Roi8_ryiWW"
   },
   "source": [
    "## Extra credit: Random Forests (possible + 2 pts)\n",
    "Random Forests are essentially many decision trees combined. The training algorithm for random forests applies the general technique of bootstrap aggregating, or bagging, to tree learners. Given a training set X = x1, ..., xn with responses Y = y1, ..., yn, bagging repeatedly (B times) selects a random sample with replacement of the training set and fits trees to these samples:\n",
    "\n",
    "For b = 1, ..., B:\n",
    "    Sample, with replacement, n training examples from X, Y; call these Xb, Yb.\n",
    "    Train a classification or regression tree fb on Xb, Yb.\n",
    "After training, predictions for unseen samples x' can be made by averaging the predictions from all the individual regression trees on x':\n",
    "\n",
    "Implement a Random forest classifier by creating and training 20 decision trees with max_depth 5. Let the predictions be chosen through majority voting on the total training data. Does your model perform better than using a single decision tree?\n",
    "\n",
    "#### **Note: sampling with \"replacement\" is important**  "
   ]
  },
  {
   "cell_type": "code",
   "execution_count": null,
   "metadata": {
    "id": "3ZfQl0d9yiWW"
   },
   "outputs": [],
   "source": [
    "import random\n",
    "\n",
    "# Randomize order of training elements for each tree\n",
    "def rand_sample(size):\n",
    "    indices = []\n",
    "    for i in range(size):\n",
    "        indices.append(random.randint(0,size-1))\n",
    "    return indices\n",
    "\n",
    "# Load the whole dataset into X_train and Y_train and initialize a variable tree_preds to contain each tree's prediction\n",
    "X_train = X\n",
    "Y_train = Y\n",
    "tree_preds = []\n",
    "\n",
    "# Create 20 Decision Trees for the lecture 7 dataset\n",
    "for t in range(20):\n",
    "    model = tree.DecisionTreeClassifier(max_depth=5)\n",
    "    sample = rand_sample(df.shape[0])\n",
    "    X_train_tree = X_train.iloc[sample]\n",
    "    Y_train_tree = Y_train.iloc[sample]\n",
    "    # TODO: FILL In Code Here\n",
    "\n",
    "print(\"Accuracy of one decision tree: \", \"FILL IN HERE\")\n",
    "print(\"Accuracy of the random decision forest: \", \"FILL IN HERE\")\n"
   ]
  }
 ],
 "metadata": {
  "colab": {
   "provenance": []
  },
  "kernelspec": {
   "display_name": "base",
   "language": "python",
   "name": "python3"
  },
  "language_info": {
   "codemirror_mode": {
    "name": "ipython",
    "version": 3
   },
   "file_extension": ".py",
   "mimetype": "text/x-python",
   "name": "python",
   "nbconvert_exporter": "python",
   "pygments_lexer": "ipython3",
   "version": "3.9.13"
  },
  "notebookId": "^EG=G=bpDp\\gp"
 },
 "nbformat": 4,
 "nbformat_minor": 0
}
